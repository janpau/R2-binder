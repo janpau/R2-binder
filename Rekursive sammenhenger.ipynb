{
 "cells": [
  {
   "cell_type": "code",
   "execution_count": null,
   "id": "374f8de5-4187-4d3b-80c5-0f3de50e695f",
   "metadata": {},
   "outputs": [],
   "source": [
    "Rekursive sammenhenger"
   ]
  },
  {
   "cell_type": "code",
   "execution_count": null,
   "id": "3dad1a5a-d40c-43d2-ab78-4f7e676d8486",
   "metadata": {},
   "outputs": [],
   "source": [
    "tall = 1\n",
    "for i in range(20):\n",
    "  print(tall)\n",
    "  tall = tall + 3"
   ]
  },
  {
   "cell_type": "code",
   "execution_count": null,
   "id": "239b428a-8655-445e-808e-d47cd10b2012",
   "metadata": {},
   "outputs": [],
   "source": [
    "Oppgave 1.1"
   ]
  },
  {
   "cell_type": "code",
   "execution_count": null,
   "id": "478fe267-6de8-4262-acc9-c3de39df1a1d",
   "metadata": {},
   "outputs": [],
   "source": [
    "print('a)')\n",
    "tall = 5\n",
    "\n",
    "for i in range(20):\n",
    "    print(tall)\n",
    "    tall = tall + 4\n",
    "    \n",
    "print('b)')\n",
    "tall = 10\n",
    "\n",
    "for i in range(20):\n",
    "    print(tall)\n",
    "    tall = tall -2\n",
    "    \n",
    "print('c)')\n",
    "tall = 1\n",
    "\n",
    "for i in range(20):\n",
    "    tall = tall + i\n",
    "    print(tall)\n",
    "    \n",
    "print('d)')\n",
    "tall = 1\n",
    "\n",
    "for i in range(20):\n",
    "    tall = 1*4**i\n",
    "    print(tall)\n",
    "\n",
    "print('e)')\n",
    "tall = 1\n",
    "\n",
    "for i in range(20):\n",
    "    tall = 3**i\n",
    "    if i % 2 == 0:\n",
    "        print(tall)\n",
    "    else:\n",
    "        print(-tall)\n",
    "        \n",
    "print('f)')\n",
    "tall = 1\n",
    "\n",
    "for i in range(20):\n",
    "    tall = (i+1)**2\n",
    "    print(tall)\n",
    "    "
   ]
  },
  {
   "cell_type": "code",
   "execution_count": null,
   "id": "a924d4c3-5d0e-403b-8e75-05cdae2f7a4c",
   "metadata": {},
   "outputs": [],
   "source": [
    "Oppg 1.3 c)"
   ]
  },
  {
   "cell_type": "code",
   "execution_count": null,
   "id": "641e25a4-f657-435d-8583-35f5db7d9e05",
   "metadata": {},
   "outputs": [],
   "source": [
    "tall = int(input('Skriv inn verdi for a_1: '))\n",
    "ledd = int(input('Oppgi antall ledd du ønsker: '))\n",
    "\n",
    "for i in range(ledd):\n",
    "    print(tall)\n",
    "    tall = tall + 1"
   ]
  },
  {
   "cell_type": "code",
   "execution_count": null,
   "id": "a0785c67-a2e5-4d1a-bccd-834c8bf09d16",
   "metadata": {},
   "outputs": [],
   "source": [
    "Oppg 1.5"
   ]
  },
  {
   "cell_type": "code",
   "execution_count": null,
   "id": "07282ef5-6c67-42f7-b74a-ff2048e00e44",
   "metadata": {},
   "outputs": [],
   "source": [
    "print('a)')\n",
    "tall = 2\n",
    "\n",
    "for i in range(1,11):\n",
    "    print(tall)\n",
    "    tall = 2*tall\n",
    "    \n",
    "print('b)')\n",
    "tall = 5\n",
    "\n",
    "for i in range(2,12):\n",
    "    print(tall)\n",
    "    tall = tall + 3\n",
    "    \n",
    "print('c)')\n",
    "tall = 1\n",
    "\n",
    "for i in range(1,11):\n",
    "    print(tall)\n",
    "    tall = 2*tall - 3\n",
    "    \n",
    "print('d)')\n",
    "tall = 1\n",
    "\n",
    "for i in range(1,11):\n",
    "    print(tall)\n",
    "    tall = tall + i"
   ]
  },
  {
   "cell_type": "code",
   "execution_count": null,
   "id": "b525248f-3c4b-4212-8de0-2441e3ef7cc9",
   "metadata": {},
   "outputs": [],
   "source": [
    "Oppgave 1.8 a):"
   ]
  },
  {
   "cell_type": "code",
   "execution_count": null,
   "id": "59418caf-aecb-4941-8fb3-de6d93556706",
   "metadata": {},
   "outputs": [],
   "source": [
    "print('De 50 første leddene av a_n + 3(n+1)')\n",
    "\n",
    "tall = 5\n",
    "\n",
    "for i in range(1,51):\n",
    "    print(tall)\n",
    "    tall = tall + 3*(i+1)"
   ]
  },
  {
   "cell_type": "code",
   "execution_count": null,
   "id": "88f11897-86aa-4e18-90f9-42f847e42487",
   "metadata": {},
   "outputs": [],
   "source": [
    "Oppgave 1.8 c):"
   ]
  },
  {
   "cell_type": "code",
   "execution_count": null,
   "id": "fa44fa4b-17fd-4dc6-a7a8-d3018c603aaf",
   "metadata": {},
   "outputs": [],
   "source": [
    "print('Differansen for de 50 første leddene av a_n+1 - a_n')\n",
    "\n",
    "tall1 = 5\n",
    "\n",
    "for i in range(1,51):\n",
    "    tall2 = tall1 + 3*(i+1)\n",
    "    print(tall2 - tall1)\n",
    "    tall1 = tall2"
   ]
  },
  {
   "cell_type": "code",
   "execution_count": null,
   "id": "a45843f5-dc13-4411-926a-5448bff82903",
   "metadata": {},
   "outputs": [],
   "source": [
    "Oppgave 1.11"
   ]
  },
  {
   "cell_type": "code",
   "execution_count": null,
   "id": "070e45b7-0882-4f87-b093-7ae9c0699fc3",
   "metadata": {},
   "outputs": [],
   "source": [
    "print('1.11 a)')\n",
    "\n",
    "for n in range(1,11):\n",
    "    tall = (n+1)/2\n",
    "    print (tall)"
   ]
  },
  {
   "cell_type": "code",
   "execution_count": null,
   "id": "81f772bf-32ba-4a18-bfae-5f71b3e647b5",
   "metadata": {},
   "outputs": [],
   "source": [
    "print('1.11 b)')\n",
    "\n",
    "for n in range(1,11):\n",
    "    tall = 2*n\n",
    "    print (tall)"
   ]
  },
  {
   "cell_type": "code",
   "execution_count": null,
   "id": "13b70485-2619-4fa2-a4ec-bf192abc8fcb",
   "metadata": {},
   "outputs": [],
   "source": [
    "Oppgave 1.16"
   ]
  },
  {
   "cell_type": "code",
   "execution_count": null,
   "id": "0858206c-3963-443c-9c4c-a81f39171542",
   "metadata": {},
   "outputs": [],
   "source": [
    "print('1.16 a)')\n",
    "sum = 0\n",
    "\n",
    "for i in range(1,51):\n",
    "    sum = sum + (2*i -1)\n",
    "\n",
    "print(sum)"
   ]
  },
  {
   "cell_type": "code",
   "execution_count": null,
   "id": "5068ec3f-a52d-48da-b9a3-a2a83cfe97d9",
   "metadata": {},
   "outputs": [],
   "source": [
    "Oppgave 1.19"
   ]
  },
  {
   "cell_type": "code",
   "execution_count": null,
   "id": "85bfbe60-3950-4187-892e-8a8f12c28641",
   "metadata": {},
   "outputs": [],
   "source": [
    "print('1.19')\n",
    "sum = 0\n",
    "\n",
    "for i in range(3,7):\n",
    "    sum = sum + (i**2 - 1)\n",
    "\n",
    "print(sum)\n"
   ]
  },
  {
   "cell_type": "code",
   "execution_count": null,
   "id": "aeae5b7b-15a1-4424-a67f-22d59d70be70",
   "metadata": {},
   "outputs": [],
   "source": [
    "Fibonacci - utforsk s23"
   ]
  },
  {
   "cell_type": "code",
   "execution_count": null,
   "id": "7310fd56-1b8f-4ac5-b52b-946774953bd7",
   "metadata": {},
   "outputs": [],
   "source": [
    "print('Fibonacci:')\n",
    "def calculateSum(n) :\n",
    "    if (n <= 0) :\n",
    "        return 0\n",
    "  \n",
    "    fibo =[0] * (n+1)\n",
    "    fibo[1] = 1\n",
    "  \n",
    "    # Initialize result\n",
    "    sm = fibo[0] + fibo[1]\n",
    "  \n",
    "    # Add remaining terms\n",
    "    for i in range(2,n+1) :\n",
    "        fibo[i] = fibo[i-1] + fibo[i-2]\n",
    "        \n",
    "        sm = sm + fibo[i]\n",
    "        \n",
    "    return sm\n",
    " \n",
    " \n",
    "# Driver program to test\n",
    "# above function\n",
    "n = 9\n",
    "print(\"Sum of the\", n, \"first Fibonacci numbers is : \" ,\n",
    "      calculateSum(n))"
   ]
  },
  {
   "cell_type": "markdown",
   "id": "e9cd2928-db41-4597-9c39-e2f49e045df8",
   "metadata": {},
   "source": [
    "Fibonacci-følgen:"
   ]
  },
  {
   "cell_type": "code",
   "execution_count": null,
   "id": "d729436e-617d-4c3f-97b6-89dadd58ac99",
   "metadata": {},
   "outputs": [],
   "source": [
    "a=0\n",
    "b=1\n",
    "n=12\n",
    "print(a)\n",
    "print(b)\n",
    "\n",
    "for i in range(n):\n",
    "    c=a+b\n",
    "    print(c)\n",
    "    a=b\n",
    "    b=c"
   ]
  },
  {
   "cell_type": "markdown",
   "id": "965d91ae-6ecf-49a2-addd-374e6fd8a8c6",
   "metadata": {},
   "source": [
    "Utforsk side 58"
   ]
  },
  {
   "cell_type": "code",
   "execution_count": null,
   "id": "fb8a9597-f320-481d-817a-bdc5982bd59d",
   "metadata": {},
   "outputs": [],
   "source": [
    "#Uendelig geometrisk rekke, k=1/2\n",
    "n = 10\n",
    "\n",
    "for i in range(n+1):\n",
    "    sum = 1-1/2**i\n",
    "    print(sum)"
   ]
  },
  {
   "cell_type": "code",
   "execution_count": null,
   "id": "2aa56e18-2f14-470f-9e18-dbc95d8c09f4",
   "metadata": {},
   "outputs": [],
   "source": [
    "#Harmonisk rekke\n",
    "n = 100\n",
    "sum = 0\n",
    "\n",
    "for i in range(1,n+1):\n",
    "    sum = sum + 1/i\n",
    "    print(sum)"
   ]
  },
  {
   "cell_type": "code",
   "execution_count": 1,
   "id": "6a5aff2f-531e-4b54-be3c-4c545cabe2a6",
   "metadata": {},
   "outputs": [
    {
     "name": "stdout",
     "output_type": "stream",
     "text": [
      "242400\n"
     ]
    }
   ],
   "source": [
    "sum = 0\n",
    "\n",
    "for i in range(1,201):\n",
    "    sum = sum + (12*i+6)\n",
    "\n",
    "print(sum)"
   ]
  },
  {
   "cell_type": "code",
   "execution_count": null,
   "id": "869e0e66-da3c-4601-87b8-9f131fb5a6d0",
   "metadata": {},
   "outputs": [],
   "source": []
  }
 ],
 "metadata": {
  "kernelspec": {
   "display_name": "Python 3 (ipykernel)",
   "language": "python",
   "name": "python3"
  },
  "language_info": {
   "codemirror_mode": {
    "name": "ipython",
    "version": 3
   },
   "file_extension": ".py",
   "mimetype": "text/x-python",
   "name": "python",
   "nbconvert_exporter": "python",
   "pygments_lexer": "ipython3",
   "version": "3.9.7"
  }
 },
 "nbformat": 4,
 "nbformat_minor": 5
}
